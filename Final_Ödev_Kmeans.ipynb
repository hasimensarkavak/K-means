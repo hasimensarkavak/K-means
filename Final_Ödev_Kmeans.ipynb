{
 "cells": [
  {
   "cell_type": "code",
   "execution_count": 1,
   "id": "57ea4d32",
   "metadata": {
    "ExecuteTime": {
     "end_time": "2022-01-17T14:23:40.515298Z",
     "start_time": "2022-01-17T14:23:40.000183Z"
    }
   },
   "outputs": [],
   "source": [
    "import numpy as np\n",
    "import matplotlib.pyplot as plt\n",
    "import pandas as pd"
   ]
  },
  {
   "cell_type": "markdown",
   "id": "70d5f4a8",
   "metadata": {},
   "source": [
    ""
   ]
  },
  {
   "cell_type": "code",
   "execution_count": 2,
   "id": "33b96c26",
   "metadata": {
    "ExecuteTime": {
     "end_time": "2022-01-17T14:23:40.545305Z",
     "start_time": "2022-01-17T14:23:40.525301Z"
    }
   },
   "outputs": [
    {
     "data": {
      "text/html": [
       "<div>\n",
       "<style scoped>\n",
       "    .dataframe tbody tr th:only-of-type {\n",
       "        vertical-align: middle;\n",
       "    }\n",
       "\n",
       "    .dataframe tbody tr th {\n",
       "        vertical-align: top;\n",
       "    }\n",
       "\n",
       "    .dataframe thead th {\n",
       "        text-align: right;\n",
       "    }\n",
       "</style>\n",
       "<table border=\"1\" class=\"dataframe\">\n",
       "  <thead>\n",
       "    <tr style=\"text-align: right;\">\n",
       "      <th></th>\n",
       "      <th>Sports</th>\n",
       "      <th>Religious</th>\n",
       "      <th>Nature</th>\n",
       "      <th>Theatre</th>\n",
       "      <th>Shopping</th>\n",
       "      <th>Picnic</th>\n",
       "    </tr>\n",
       "  </thead>\n",
       "  <tbody>\n",
       "    <tr>\n",
       "      <th>0</th>\n",
       "      <td>2</td>\n",
       "      <td>77</td>\n",
       "      <td>79</td>\n",
       "      <td>69</td>\n",
       "      <td>68</td>\n",
       "      <td>95</td>\n",
       "    </tr>\n",
       "    <tr>\n",
       "      <th>1</th>\n",
       "      <td>2</td>\n",
       "      <td>62</td>\n",
       "      <td>76</td>\n",
       "      <td>76</td>\n",
       "      <td>69</td>\n",
       "      <td>68</td>\n",
       "    </tr>\n",
       "    <tr>\n",
       "      <th>2</th>\n",
       "      <td>2</td>\n",
       "      <td>50</td>\n",
       "      <td>97</td>\n",
       "      <td>87</td>\n",
       "      <td>50</td>\n",
       "      <td>75</td>\n",
       "    </tr>\n",
       "    <tr>\n",
       "      <th>3</th>\n",
       "      <td>2</td>\n",
       "      <td>68</td>\n",
       "      <td>77</td>\n",
       "      <td>95</td>\n",
       "      <td>76</td>\n",
       "      <td>61</td>\n",
       "    </tr>\n",
       "    <tr>\n",
       "      <th>4</th>\n",
       "      <td>2</td>\n",
       "      <td>98</td>\n",
       "      <td>54</td>\n",
       "      <td>59</td>\n",
       "      <td>95</td>\n",
       "      <td>86</td>\n",
       "    </tr>\n",
       "  </tbody>\n",
       "</table>\n",
       "</div>"
      ],
      "text/plain": [
       "   Sports  Religious  Nature  Theatre  Shopping  Picnic\n",
       "0       2         77      79       69        68      95\n",
       "1       2         62      76       76        69      68\n",
       "2       2         50      97       87        50      75\n",
       "3       2         68      77       95        76      61\n",
       "4       2         98      54       59        95      86"
      ]
     },
     "execution_count": 2,
     "metadata": {},
     "output_type": "execute_result"
    }
   ],
   "source": [
    "data = pd.read_csv(\"Final-data.txt\") #dosyadan okuma\n",
    "data.head()"
   ]
  },
  {
   "cell_type": "code",
   "execution_count": 3,
   "id": "7fe00778",
   "metadata": {
    "ExecuteTime": {
     "end_time": "2022-01-17T14:23:40.810358Z",
     "start_time": "2022-01-17T14:23:40.796359Z"
    }
   },
   "outputs": [],
   "source": [
    "secilenData = data.loc[:,[\"Shopping\",\"Nature\"]]"
   ]
  },
  {
   "cell_type": "code",
   "execution_count": 4,
   "id": "e355ec1d",
   "metadata": {
    "ExecuteTime": {
     "end_time": "2022-01-17T14:23:41.213389Z",
     "start_time": "2022-01-17T14:23:41.205387Z"
    }
   },
   "outputs": [
    {
     "data": {
      "text/html": [
       "<div>\n",
       "<style scoped>\n",
       "    .dataframe tbody tr th:only-of-type {\n",
       "        vertical-align: middle;\n",
       "    }\n",
       "\n",
       "    .dataframe tbody tr th {\n",
       "        vertical-align: top;\n",
       "    }\n",
       "\n",
       "    .dataframe thead th {\n",
       "        text-align: right;\n",
       "    }\n",
       "</style>\n",
       "<table border=\"1\" class=\"dataframe\">\n",
       "  <thead>\n",
       "    <tr style=\"text-align: right;\">\n",
       "      <th></th>\n",
       "      <th>Shopping</th>\n",
       "      <th>Nature</th>\n",
       "    </tr>\n",
       "  </thead>\n",
       "  <tbody>\n",
       "    <tr>\n",
       "      <th>0</th>\n",
       "      <td>68</td>\n",
       "      <td>79</td>\n",
       "    </tr>\n",
       "    <tr>\n",
       "      <th>1</th>\n",
       "      <td>69</td>\n",
       "      <td>76</td>\n",
       "    </tr>\n",
       "    <tr>\n",
       "      <th>2</th>\n",
       "      <td>50</td>\n",
       "      <td>97</td>\n",
       "    </tr>\n",
       "    <tr>\n",
       "      <th>3</th>\n",
       "      <td>76</td>\n",
       "      <td>77</td>\n",
       "    </tr>\n",
       "    <tr>\n",
       "      <th>4</th>\n",
       "      <td>95</td>\n",
       "      <td>54</td>\n",
       "    </tr>\n",
       "  </tbody>\n",
       "</table>\n",
       "</div>"
      ],
      "text/plain": [
       "   Shopping  Nature\n",
       "0        68      79\n",
       "1        69      76\n",
       "2        50      97\n",
       "3        76      77\n",
       "4        95      54"
      ]
     },
     "execution_count": 4,
     "metadata": {},
     "output_type": "execute_result"
    }
   ],
   "source": [
    "secilenData.head()"
   ]
  },
  {
   "cell_type": "code",
   "execution_count": 5,
   "id": "4f7b0667",
   "metadata": {
    "ExecuteTime": {
     "end_time": "2022-01-17T14:23:41.586472Z",
     "start_time": "2022-01-17T14:23:41.580471Z"
    }
   },
   "outputs": [],
   "source": [
    "A = secilenData.values"
   ]
  },
  {
   "cell_type": "code",
   "execution_count": 6,
   "id": "ad07963c",
   "metadata": {
    "ExecuteTime": {
     "end_time": "2022-01-17T14:23:42.302387Z",
     "start_time": "2022-01-17T14:23:42.181361Z"
    }
   },
   "outputs": [
    {
     "data": {
      "image/png": "[encoded data removed]",
      "text/plain": [
       "<Figure size 432x288 with 1 Axes>"
      ]
     },
     "metadata": {
      "needs_background": "light"
     },
     "output_type": "display_data"
    }
   ],
   "source": [
    "plt.scatter(A[:,0], A[:, 1])\n",
    "plt.xlabel('Shopping')\n",
    "plt.ylabel('Nature')\n",
    "plt.show()"
   ]
  },
  {
   "cell_type": "code",
   "execution_count": 7,
   "id": "b85b9fc5",
   "metadata": {
    "ExecuteTime": {
     "end_time": "2022-01-17T14:23:42.708363Z",
     "start_time": "2022-01-17T14:23:42.700361Z"
    }
   },
   "outputs": [],
   "source": [
    "X = data.values # X verilerimiz"
   ]
  },
  {
   "cell_type": "markdown",
   "id": "ae94621d",
   "metadata": {},
   "source": [
    "## K-means Algoritması"
   ]
  },
  {
   "cell_type": "code",
   "execution_count": 46,
   "id": "d9cc32a7",
   "metadata": {
    "ExecuteTime": {
     "end_time": "2022-01-17T14:26:02.423238Z",
     "start_time": "2022-01-17T14:26:02.401232Z"
    }
   },
   "outputs": [],
   "source": [
    "class Kmeans:\n",
    "    def __init__(self,X,k):\n",
    "        self.K = k # küme sayımız\n",
    "        self.max_iterations = 3000 # hata durumu olursa sonsuza kadar dönmesin diye ekledim\n",
    "        self.veriSayısı = X.shape[0]\n",
    "        self.colonSayısı = X.shape[1]\n",
    "        \n",
    "    def rastgele_merkez(self,X):\n",
    "        merkezler = np.zeros((self.K,self.colonSayısı))\n",
    "\n",
    "        for i in range(self.K):\n",
    "            merkez = X[np.random.choice(range(self.veriSayısı))] # rastgele merkez seçtik verilerimizden\n",
    "            merkezler[i]=merkez\n",
    "\n",
    "        return merkezler\n",
    "    \n",
    "    def kume_olustur(self,X,merkezler):\n",
    "        kumeler = [[]for _ in range(self.K)] # K değeri kadar kume oluşturduk\n",
    "        \n",
    "        for index, veri in enumerate(X):\n",
    "            enYakın_merkez = np.argmin(np.sqrt(np.sum((veri - merkezler) **2,axis=1))) # en yakın kume merkezini hesaplıyoruz\n",
    "\n",
    "            kumeler[enYakın_merkez].append(index) #en yakın olduğu kümeye verinin indexini atıyoruz\n",
    "            \n",
    "        return kumeler\n",
    "    \n",
    "    \n",
    "    def yeni_merkez_bul(self,kumeler,X):\n",
    "        merkezler = np.zeros((self.K,self.colonSayısı))\n",
    "        \n",
    "        for index, kume in enumerate(kumeler):\n",
    "            yeni_merkez = np.mean(X[kume],axis=0) #kumenin ortalamasını alarak yeni merkezi buluyoruz\n",
    "            \n",
    "            merkezler[index] = yeni_merkez\n",
    "            \n",
    "        return merkezler\n",
    "    \n",
    "    \n",
    "    def kumeleme(self,kumeler,X):\n",
    "        verilerin_kumeleri = np.zeros(self.veriSayısı)\n",
    "        \n",
    "        for kume_index, kume in enumerate(kumeler): #Veri indexine göre küme numaralarını atıyoruz\n",
    "            for veri_index in kume:\n",
    "                verilerin_kumeleri[veri_index] = kume_index\n",
    "                \n",
    "        return verilerin_kumeleri\n",
    "    \n",
    "    def durma_kosulu_2(self,verilerin_kumeleri,eski_verilerin_kumeleri):\n",
    "        durdur = True\n",
    "        for i in range(self.veriSayısı):\n",
    "            if verilerin_kumeleri[i] != eski_verilerin_kumeleri[i]:\n",
    "                durdur = False\n",
    "                \n",
    "        return durdur\n",
    "    \n",
    "    \n",
    "    def fit(self,X):\n",
    "        print(\"Kümeleme İşlemi Başladı...\")\n",
    "        merkezler = self.rastgele_merkez(X) #2. adım rastgele merkez seçiyoruz\n",
    "        verilerin_kumeleri = np.zeros(self.veriSayısı)\n",
    "        \n",
    "        for i in range(self.max_iterations): #3. ve 4. adımı koşullar sağlanana kadar tekrarlıyoruz\n",
    "            \n",
    "            kumeler = self.kume_olustur(X,merkezler) #3. adım her veriyi en yakın kümeye atadık\n",
    "            \n",
    "            eski_merkezler = merkezler\n",
    "            merkezler = self.yeni_merkez_bul(kumeler,X) #4. adım her kümenin yeni merkezini hesapladık\n",
    "            \n",
    "            merkezler_degisti = merkezler - eski_merkezler # durma koşulu 1 için eski merkezleri tutuyoruz\n",
    "            \n",
    "            eski_verilerin_kumeleri = verilerin_kumeleri # durma koşulu 2 için eski kümeleri tutuyoruz\n",
    "            verilerin_kumeleri =self.kumeleme(kumeler,X)\n",
    "            \n",
    "            if not merkezler_degisti.any(): # durma koşulu\n",
    "                print(\"Kume Merkezi Değişmedi Durma Koşulu Gerçekleşti...\")\n",
    "                break\n",
    "            if self.durma_kosulu_2(verilerin_kumeleri,eski_verilerin_kumeleri) == True: # durma koşulu 2\n",
    "                print(\"Hiçbir Veri Küme Değiştirmedi Durma Koşulu Gerçekleşti...\")\n",
    "                break\n",
    "                \n",
    "                # Hedeflenen SSE değerine ulaşılması çok mümkün olmadığı için o koşulu eklemedim\n",
    "        \n",
    "        \n",
    "        wcss = self.wcss(X,merkezler) # wcss\n",
    "        dunn_index = self.dunn_index(merkezler,X,kumeler) # dunn index\n",
    "        tss = self.tss(X) # tss\n",
    "        \n",
    "        self.yazdir(kumeler,verilerin_kumeleri,wcss,tss,dunn_index) #Dosyaya yazdırdık\n",
    "        \n",
    "        print(\"Kümeleme İşlemi Tamamlandı. Dosyalarınız Hazır.\")\n",
    "        \n",
    "        self.y = verilerin_kumeleri\n",
    "        return verilerin_kumeleri\n",
    "    \n",
    "    \n",
    "    def wcss(self,X,merkezler):\n",
    "        wcss = [[]for _ in range(self.K)]\n",
    "        for index, veri in enumerate(X):\n",
    "            enYakın_merkez = np.argmin(np.sqrt(np.sum((veri - merkezler) **2,axis=1)))\n",
    "            uzaklık = np.min(np.sum((veri - merkezler) **2,axis=1)) #uzaklığın karesi olamsı için direkt kök içine almadım\n",
    "            wcss[enYakın_merkez].append(uzaklık)\n",
    "        \n",
    "        sonuc=0\n",
    "        for i in range(self.K):\n",
    "            sonuc += np.sum(wcss[i])\n",
    "            \n",
    "        return sonuc\n",
    "    \n",
    "    def tss(self,X):\n",
    "        ortalama = np.mean(X,axis=0)\n",
    "        tss=0\n",
    "        for index, veri in enumerate(X):\n",
    "            tss += np.sum((veri - ortalama) **2)\n",
    "            \n",
    "        return tss\n",
    "    \n",
    "    def dunn_index(self,merkezler,X,kumeler):\n",
    "        min_inter_cd=float('inf')\n",
    "        for i in range(self.K):\n",
    "            for j in range(self.K):\n",
    "                if i==j:continue\n",
    "                uzaklık = np.sqrt(np.sum((merkezler[j] - merkezler[i]) **2))\n",
    "                min_inter_cd = min(min_inter_cd,uzaklık)\n",
    "            \n",
    "        \n",
    "        max_iter_cd=0\n",
    "        for kume_index, kume in enumerate(kumeler):\n",
    "            for veri_index in kume:\n",
    "                for veri_index_2 in kume:\n",
    "                    if veri_index == veri_index_2:continue\n",
    "                    uzaklık2 = np.sqrt(np.sum((X[veri_index_2] - X[veri_index]) **2))\n",
    "                    max_iter_cd = max(max_iter_cd,uzaklık2)\n",
    "                    \n",
    "        return min_inter_cd/max_iter_cd\n",
    "                                  \n",
    "    \n",
    "    \n",
    "    def plot(self,x_label,y_label): #görselleştirme\n",
    "        #plt.scatter(X[:,2],X[:,5], c=y, s=40, cmap=plt.cm.Spectral)\n",
    "        #plt.show()\n",
    "        label = self.y\n",
    "        u_labels = np.unique(label)\n",
    "        for i in u_labels:\n",
    "            plt.scatter(X[label == i,x_label],X[label == i,y_label], label=(f\"Küme {int(i)}\"),s=40)\n",
    "\n",
    "        plt.xlabel(data.columns[x_label])\n",
    "        plt.ylabel(data.columns[y_label])\n",
    "        plt.legend()\n",
    "        plt.show()\n",
    "        \n",
    "        \n",
    "    def yazdir(self,kumeler,y,wcss,tss,dunn_index):\n",
    "        dosya = open(\"sonuc_kumelere_gore.txt\",\"w\")\n",
    "        dosya2= open(\"sonuc_verilere_gore.txt\",\"w\")\n",
    "        \n",
    "        for kume_index, kume in enumerate(kumeler):\n",
    "            for veri_index in kume:\n",
    "                dosya.write(f\"Kayıt {veri_index}:   Kume {kume_index}\\n\")\n",
    "                \n",
    "        for i in range(y.size):\n",
    "            dosya2.write(f\"Kayıt {i}:    Kume: {int(y[i])}\\n\")\n",
    "                \n",
    "        for i in range(self.K):\n",
    "            dosya.write(f\"\\nKüme {i}: {len(kumeler[i])} Kayıt\")\n",
    "            dosya2.write(f\"\\nKüme {i}: {len(kumeler[i])} Kayıt\")\n",
    "            \n",
    "        dosya2.write(f\"\\n\\nWCSS: {wcss}\")\n",
    "        dosya.write(f\"\\n\\nWCSS: {wcss}\")\n",
    "        \n",
    "        dosya2.write(f\"\\nBCSS: {tss-wcss}\")\n",
    "        dosya.write(f\"\\nBCSS: {tss-wcss}\")\n",
    "        \n",
    "        dosya2.write(f\"\\nTSS: {tss}\")\n",
    "        dosya.write(f\"\\nTSS: {tss}\")\n",
    "        \n",
    "        dosya2.write(f\"\\nDunn Index: {dunn_index}\")\n",
    "        dosya.write(f\"\\nDunn Index: {dunn_index}\")\n",
    "        \n",
    "        dosya2.close()\n",
    "        dosya.close()        "
   ]
  },
  {
   "cell_type": "code",
   "execution_count": 47,
   "id": "ea118b05",
   "metadata": {
    "ExecuteTime": {
     "end_time": "2022-01-17T14:26:03.484475Z",
     "start_time": "2022-01-17T14:26:03.480474Z"
    }
   },
   "outputs": [],
   "source": [
    "# Bu fonksiyonları eklemeseydim widgetlardan K değerini ve Labelları değiştirmek istediğimde class ın olduğu hücreyi \n",
    "# her seferinde shift+enter yapmam gerekiyordu pratik olsun diye ekledim\n",
    "\n",
    "def fit(k,X):\n",
    "    Kmeanss = Kmeans(X,k)\n",
    "    Kmeanss.fit(X)\n",
    "    return Kmeanss\n",
    "\n",
    "def plot(K_means,x_label,y_label):\n",
    "    K_means.plot(x_label,y_label)"
   ]
  },
  {
   "cell_type": "markdown",
   "id": "efcfed84",
   "metadata": {},
   "source": [
    "# K değeri ve labellar için widget ekledim"
   ]
  },
  {
   "cell_type": "code",
   "execution_count": 48,
   "id": "8d73e76f",
   "metadata": {
    "ExecuteTime": {
     "end_time": "2022-01-17T14:26:04.212639Z",
     "start_time": "2022-01-17T14:26:04.192634Z"
    }
   },
   "outputs": [],
   "source": [
    "import ipywidgets as widgets\n",
    "k = widgets.IntText(\n",
    "    value=3,\n",
    "    description='K değeri:',\n",
    "    disabled=False\n",
    ")\n",
    "x_label=widgets.Dropdown(\n",
    "    placeholder='X labelı seç',\n",
    "    value = 1,\n",
    "    options=[('Sports',0), ('Religious',1), ('Nature',2), ('Theatre',3),('Shopping',4),('Picnic',5)],\n",
    "    description='x_label:',\n",
    "    ensure_option=True,\n",
    "    disabled=False\n",
    ")\n",
    "\n",
    "y_label=widgets.Dropdown(\n",
    "    placeholder='X labelı seç',\n",
    "    value = 2,\n",
    "    options=[('Sports',0), ('Religious',1), ('Nature',2), ('Theatre',3),('Shopping',4),('Picnic',5)],\n",
    "    description='y_label:',\n",
    "    ensure_option=True,\n",
    "    disabled=False\n",
    ")"
   ]
  },
  {
   "cell_type": "markdown",
   "id": "28aa00dd",
   "metadata": {},
   "source": [
    "### K değerini belirleyip fit ediyoruz."
   ]
  },
  {
   "cell_type": "code",
   "execution_count": 49,
   "id": "1532c628",
   "metadata": {
    "ExecuteTime": {
     "end_time": "2022-01-17T14:26:05.447916Z",
     "start_time": "2022-01-17T14:26:05.432912Z"
    }
   },
   "outputs": [
    {
     "data": {
      "application/vnd.jupyter.widget-view+json": {
       "model_id": "91db093ac63b4027806ff5d3e4d7e41c",
       "version_major": 2,
       "version_minor": 0
      },
      "text/plain": [
       "IntText(value=3, description='K değeri:')"
      ]
     },
     "metadata": {},
     "output_type": "display_data"
    }
   ],
   "source": [
    "k"
   ]
  },
  {
   "cell_type": "code",
   "execution_count": 50,
   "id": "8df697d7",
   "metadata": {
    "ExecuteTime": {
     "end_time": "2022-01-17T14:26:09.360358Z",
     "start_time": "2022-01-17T14:26:09.288357Z"
    }
   },
   "outputs": [
    {
     "name": "stdout",
     "output_type": "stream",
     "text": [
      "Kümeleme İşlemi Başladı...\n",
      "Kume Merkezi Değişmedi Durma Koşulu Gerçekleşti...\n",
      "Kümeleme İşlemi Tamamlandı. Dosyalarınız Hazır.\n"
     ]
    }
   ],
   "source": [
    "K_means=fit(k.value,X) # k_means"
   ]
  },
  {
   "cell_type": "markdown",
   "id": "f1ca208a",
   "metadata": {},
   "source": [
    "### X ve Y labellarını seçip çizdirebilirsiniz"
   ]
  },
  {
   "cell_type": "code",
   "execution_count": 51,
   "id": "b991d046",
   "metadata": {
    "ExecuteTime": {
     "end_time": "2022-01-17T14:26:10.692359Z",
     "start_time": "2022-01-17T14:26:10.689358Z"
    }
   },
   "outputs": [
    {
     "data": {
      "application/vnd.jupyter.widget-view+json": {
       "model_id": "d54bf90933a94dc0b26dcd0145ae3f7d",
       "version_major": 2,
       "version_minor": 0
      },
      "text/plain": [
       "Dropdown(description='x_label:', index=1, options=(('Sports', 0), ('Religious', 1), ('Nature', 2), ('Theatre',…"
      ]
     },
     "metadata": {},
     "output_type": "display_data"
    }
   ],
   "source": [
    "x_label"
   ]
  },
  {
   "cell_type": "code",
   "execution_count": 52,
   "id": "40cec015",
   "metadata": {
    "ExecuteTime": {
     "end_time": "2022-01-17T14:26:11.208627Z",
     "start_time": "2022-01-17T14:26:11.201625Z"
    }
   },
   "outputs": [
    {
     "data": {
      "application/vnd.jupyter.widget-view+json": {
       "model_id": "e9e81b52d80f48eb84c467ae40c008ec",
       "version_major": 2,
       "version_minor": 0
      },
      "text/plain": [
       "Dropdown(description='y_label:', index=2, options=(('Sports', 0), ('Religious', 1), ('Nature', 2), ('Theatre',…"
      ]
     },
     "metadata": {},
     "output_type": "display_data"
    }
   ],
   "source": [
    "y_label"
   ]
  },
  {
   "cell_type": "code",
   "execution_count": 53,
   "id": "73bb45a3",
   "metadata": {
    "ExecuteTime": {
     "end_time": "2022-01-17T14:26:12.548771Z",
     "start_time": "2022-01-17T14:26:11.864618Z"
    }
   },
   "outputs": [
    {
     "data": {
      "image/png": "[encoded data removed]",
      "text/plain": [
       "<Figure size 432x288 with 1 Axes>"
      ]
     },
     "metadata": {
      "needs_background": "light"
     },
     "output_type": "display_data"
    }
   ],
   "source": [
    "plot(K_means,x_label.value,y_label.value) # çizdirme fonksiyonu"
   ]
  },
  {
   "cell_type": "code",
   "execution_count": null,
   "id": "dd87e7bd",
   "metadata": {},
   "outputs": [],
   "source": []
  }
 ],
 "metadata": {
  "kernelspec": {
   "display_name": "Python 3",
   "language": "python",
   "name": "python3"
  },
  "language_info": {
   "codemirror_mode": {
    "name": "ipython",
    "version": 3
   },
   "file_extension": ".py",
   "mimetype": "text/x-python",
   "name": "python",
   "nbconvert_exporter": "python",
   "pygments_lexer": "ipython3",
   "version": "3.8.8"
  }
 },
 "nbformat": 4,
 "nbformat_minor": 5
}
